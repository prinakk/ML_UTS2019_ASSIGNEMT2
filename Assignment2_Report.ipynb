{
  "nbformat": 4,
  "nbformat_minor": 0,
  "metadata": {
    "colab": {
      "name": "Untitled4.ipynb",
      "provenance": [],
      "collapsed_sections": [],
      "include_colab_link": true
    },
    "kernelspec": {
      "name": "python3",
      "display_name": "Python 3"
    }
  },
  "cells": [
    {
      "cell_type": "markdown",
      "metadata": {
        "id": "view-in-github",
        "colab_type": "text"
      },
      "source": [
        "<a href=\"https://colab.research.google.com/github/prinakk/ML_UTS2019_ASSIGNEMT2/blob/master/Assignment2_Report.ipynb\" target=\"_parent\"><img src=\"https://colab.research.google.com/assets/colab-badge.svg\" alt=\"Open In Colab\"/></a>"
      ]
    },
    {
      "cell_type": "markdown",
      "metadata": {
        "id": "q9_a4nBKrLjz",
        "colab_type": "text"
      },
      "source": [
        "https://github.com/prinakk/ML_UTS2019_ASSIGNEMT2"
      ]
    },
    {
      "cell_type": "markdown",
      "metadata": {
        "id": "-BvkX5gSeRCR",
        "colab_type": "text"
      },
      "source": [
        "Assignment 2: Insurance claim prediction \n",
        "\n",
        "By\n",
        "\n",
        "Prina Kamakotti:13171780 Aditya Bamidipati Lakshmana Murthy:13133638\n"
      ]
    },
    {
      "cell_type": "markdown",
      "metadata": {
        "id": "QAciGF02rwQy",
        "colab_type": "text"
      },
      "source": [
        "#Introduction\n",
        "\n",
        "##Problem and its significance:\n",
        "\n",
        "The data collected for our project is from Porto Seguro, a leading insurance company in Brazil. They have used machine learning to make insurance claim predictions, using the same data. The challenge presented here is to build a model that will predict the customer who is most likely to make a claim in the next year. \n",
        "\n",
        "Imagine a risky driver with a bad driving history, makes a claim year after year. This is grounds for increasing his/her insurance price for the next year. The prediction model's accuracy makes sure that this increase in price is reflected only on the bad-driver. If the accuracy is low, drivers with relatively fewer claims or less bad driving history might have their insurance price increased. This inaccuracy is the major concerning problem we are trying to deal with in this project.\n",
        " \n",
        "The use of predictions with better accuracy will help both the customers, as well as the insurance company.  Due to the drawback of more expenses for safe drivers and lower costs for risky ones, in effect, the prices are also highly reflected on the insurance company's profit.  \n",
        "\n",
        "With accurate predictions, they're used to fine-tune the prices for new and existing customers, helping to give more accessible coverage to drivers and with fair prices to every customer. This would lead to better profits for the company as a whole.       \n",
        "\n",
        "Due to the need for protecting the customer's information, the data has unlabelled features, which is a challenge on its own. There are around 595k records with each record having approximately 57 features. We use random forest, k-fold partitioning for model prediction.  "
      ]
    },
    {
      "cell_type": "markdown",
      "metadata": {
        "id": "Mh-CcWw-slNk",
        "colab_type": "text"
      },
      "source": [
        "#Exploration\n",
        "\n",
        "The data in question is from Kaggle, upoloaded by Porto Seguro. The data has 595,213 row data values. Each value has 57 features which are undefined and a 0/1 target column value which decides whether a claim is made or not. It can be seen that, 21,694 values have target association as 1 and the remaining as 0.   \n",
        "The test data has 892,816 rows and has one less feature than the training data, which is 56. The excluded feature is the target, which needs to be found. \n",
        "We have four data types represented in the dataset. They are:\n",
        "\n",
        "1.   Nominal which has 15 attributes\n",
        "2.   Ordinal with 15 attributes\n",
        "3.   Binary has 18 attributes and \n",
        "4.   Interval with 11.\n",
        "\n",
        "Metadata: \n",
        "To ensure that data management is sufficient, we have stored the meta information of the attributes in a dataframe. This is helpful during visualisingspecific attributes for analysis and modelling. The attributes will be stored under: role, level and dtype.\n",
        "\n",
        "\n",
        "We cannot rely on description to feature select and also due to teh features being unlabeled, we cannot fit them as needed. These are problems we have identified. \n",
        "\n",
        "\n"
      ]
    }
  ]
}