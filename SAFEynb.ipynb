{
  "nbformat": 4,
  "nbformat_minor": 0,
  "metadata": {
    "colab": {
      "name": "SAFEynb",
      "provenance": [],
      "include_colab_link": true
    },
    "kernelspec": {
      "name": "python3",
      "display_name": "Python 3"
    }
  },
  "cells": [
    {
      "cell_type": "markdown",
      "metadata": {
        "id": "view-in-github",
        "colab_type": "text"
      },
      "source": [
        "<a href=\"https://colab.research.google.com/github/prinakk/ML_UTS2019_ASSIGNEMT2/blob/master/SAFEynb.ipynb\" target=\"_parent\"><img src=\"https://colab.research.google.com/assets/colab-badge.svg\" alt=\"Open In Colab\"/></a>"
      ]
    },
    {
      "cell_type": "markdown",
      "metadata": {
        "id": "nM2V-CnFpY_h",
        "colab_type": "text"
      },
      "source": [
        "https://github.com/prinakk/ML_UTS2019_ASSIGNEMT2"
      ]
    },
    {
      "cell_type": "code",
      "metadata": {
        "id": "6qtvgvhkcEMz",
        "colab_type": "code",
        "colab": {}
      },
      "source": [
        "# Data analysis and data wrangling\n",
        "import numpy as np\n",
        "import pandas as pd\n",
        "\n",
        "# Plotting\n",
        "import seaborn as sns\n",
        "import matplotlib.pyplot as plt\n",
        "import missingno as msno\n",
        "\n",
        "# Preprocessing\n",
        "from sklearn.preprocessing import LabelEncoder\n",
        "\n",
        "# Machine learning\n",
        "\n",
        "from sklearn.linear_model import LinearRegression\n",
        "from sklearn.ensemble import RandomForestRegressor\n",
        "from sklearn.linear_model import LogisticRegression\n",
        "from sklearn.model_selection import StratifiedKFold\n",
        "from sklearn.model_selection import cross_val_score\n",
        "\n",
        "\n",
        "\n",
        "# Metrics\n",
        "from sklearn.metrics import mean_absolute_error\n",
        "from sklearn.model_selection import KFold\n",
        "\n",
        "# Other\n",
        "from IPython.display import Image\n",
        "import configparser\n",
        "import gc # clear RAM\n",
        "import subprocess\n",
        "import warnings\n",
        "import pprint\n",
        "import time\n",
        "import os"
      ],
      "execution_count": 0,
      "outputs": []
    },
    {
      "cell_type": "markdown",
      "metadata": {
        "id": "PSs2VTfdpUkx",
        "colab_type": "text"
      },
      "source": [
        ""
      ]
    },
    {
      "cell_type": "code",
      "metadata": {
        "id": "j6ZOIOZSmzq3",
        "colab_type": "code",
        "outputId": "084d3d3e-d433-4e5f-8a50-358beee6e0ba",
        "colab": {
          "base_uri": "https://localhost:8080/",
          "height": 34
        }
      },
      "source": [
        "os.getcwd()"
      ],
      "execution_count": 0,
      "outputs": [
        {
          "output_type": "execute_result",
          "data": {
            "text/plain": [
              "'/content'"
            ]
          },
          "metadata": {
            "tags": []
          },
          "execution_count": 2
        }
      ]
    },
    {
      "cell_type": "code",
      "metadata": {
        "id": "82kd9Yw2nHL_",
        "colab_type": "code",
        "outputId": "cdf68bfa-393a-438d-b48a-82c4b19deb11",
        "colab": {
          "base_uri": "https://localhost:8080/",
          "height": 34
        }
      },
      "source": [
        "print(os.listdir('/content'))"
      ],
      "execution_count": 0,
      "outputs": [
        {
          "output_type": "stream",
          "text": [
            "['.config', 'test.csv', 'train.csv', 'sample_data']\n"
          ],
          "name": "stdout"
        }
      ]
    },
    {
      "cell_type": "code",
      "metadata": {
        "id": "polBaDStnhs5",
        "colab_type": "code",
        "colab": {}
      },
      "source": [
        "# Guarantees visualization inside the jupyter\n",
        "%matplotlib inline\n",
        "\n",
        "# formata os dados de todas as tabelas (ponto flutuante com 2 casas)\n",
        "pd.options.display.float_format = '{:.2f}'.format\n",
        "\n",
        "# param config\n",
        "rc={'savefig.dpi': 500, \n",
        "    'figure.autolayout': False, \n",
        "    'figure.figsize': [15, 8], \n",
        "    'axes.labelsize': 18,\n",
        "    'axes.titlesize': 18, \n",
        "    'font.size': 18, \n",
        "    'lines.linewidth': 2.0, \n",
        "    'lines.markersize': 8, \n",
        "    'legend.fontsize': 16,\n",
        "    'xtick.labelsize': 16, \n",
        "    'ytick.labelsize': 16}\n",
        "\n",
        "# Print all rows and columns. Dont hide any\n",
        "pd.set_option('display.max_rows', 500)\n",
        "pd.set_option('display.max_columns', None)\n",
        "\n",
        "# Definition color and map de colors\n",
        "default_color = '#56B4E9'\n",
        "colormap = plt.cm.cool\n",
        "\n",
        "# Single colour palettes for good and bad outcomes\n",
        "good_palette = ['#44cc44']\n",
        "bad_palette = ['#cc4444']\n",
        "# Colour palette for gender - traditional light pink (female), light blue (male)\n",
        "gender_palette = ['#B0C4DE','#FFB6C1']\n",
        "# Colour palette for ticket class - gold (first), silver (second), bronze (third)\n",
        "class_palette = ['#FFD700','#C0C0C0','#CD7F32']\n",
        "\n",
        "# Supress unnecessary warnings so that presentation looks clean\n",
        "warnings.filterwarnings('ignore')\n",
        "\n",
        "# graph style\n",
        "sns.set(style='dark',rc=rc)\n",
        "\n",
        "# OPTIONAL: Load the \"autoreload\" extension so that code can change\n",
        "%load_ext autoreload\n",
        "\n",
        "# Pretty print\n",
        "pp = pprint.PrettyPrinter(indent=4)"
      ],
      "execution_count": 0,
      "outputs": []
    },
    {
      "cell_type": "code",
      "metadata": {
        "id": "tw98ySUwnlLV",
        "colab_type": "code",
        "outputId": "262e8deb-9116-4885-ff66-0331f203dfad",
        "colab": {
          "base_uri": "https://localhost:8080/",
          "height": 51
        }
      },
      "source": [
        "%%time\n",
        "\n",
        "# sep=','\n",
        "# na_values = valores nulos\n",
        "# encoding='utf-8'\n",
        "\n",
        "train = pd.read_csv('/content/train.csv', \n",
        "                    na_values=-1,\n",
        "                    sep=',',\n",
        "                    encoding='utf-8')\n",
        "test = pd.read_csv('/content/test.csv', \n",
        "                   na_values=-1,\n",
        "                   sep=',',\n",
        "                   encoding='utf-8')"
      ],
      "execution_count": 0,
      "outputs": [
        {
          "output_type": "stream",
          "text": [
            "CPU times: user 1.49 s, sys: 163 ms, total: 1.65 s\n",
            "Wall time: 1.66 s\n"
          ],
          "name": "stdout"
        }
      ]
    },
    {
      "cell_type": "markdown",
      "metadata": {
        "id": "1x3TNXE3lizz",
        "colab_type": "text"
      },
      "source": [
        ""
      ]
    }
  ]
}